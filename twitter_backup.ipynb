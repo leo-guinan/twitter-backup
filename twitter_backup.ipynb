{
 "cells": [
  {
   "cell_type": "markdown",
   "id": "c8771eb3-2c36-4048-911f-77c4b56ac10a",
   "metadata": {},
   "source": [
    "# Step 1: Sign up for a Twitter developer account.\n",
    "\n",
    "In order to pull your data, you'll need your keys from a Twitter developer account. \n",
    "\n",
    "You'll need the following:\n",
    "API/Consumer Key - developer account specific\n",
    "API/Consumer Secret - developer account specific\n",
    "Access Key - Twitter account specific\n",
    "Access Secret - Twitter account specific\n",
    "\n",
    "OR \n",
    "\n",
    "Bearer token"
   ]
  },
  {
   "cell_type": "code",
   "execution_count": 46,
   "id": "f589431a-ede2-457e-af05-0e1dcf3e8dd6",
   "metadata": {},
   "outputs": [],
   "source": [
    "import os\n",
    "import tweepy\n",
    "import pandas as pd"
   ]
  },
  {
   "cell_type": "code",
   "execution_count": null,
   "id": "6a192c51-fec0-42f7-9ae7-8cfd4b696f78",
   "metadata": {},
   "outputs": [],
   "source": [
    "USER_FIELDS=\"id,name,username,description,url,created_at,public_metrics,profile_image_url,pinned_tweet_id,location\"\n",
    "TWITTER_API_KEY=os.environ.get('TWITTER_API_KEY')\n",
    "TWITTER_API_SECRET=os.environ.get('TWITTER_API_SECRET')\n",
    "TWITTER_ACCESS_TOKEN=os.environ.get('TWITTER_ACCESS_TOKEN')\n",
    "TWITTER_ACCESS_SECRET=os.environ.get('TWITTER_ACCESS_SECRET')\n",
    "TWITTER_BEARER_TOKEN=os.environ.get('TWITTER_BEARER_TOKEN')\n",
    "TWITTER_USERNAME = \"YOUR_TWITTER_USERNAME\"\n"
   ]
  },
  {
   "cell_type": "code",
   "execution_count": 38,
   "id": "4b9a8332-b749-4139-ad75-abb088337f22",
   "metadata": {},
   "outputs": [],
   "source": [
    "\n",
    "\n",
    "client = tweepy.Client(TWITTER_BEARER_TOKEN)\n",
    "# Alternate approach\n",
    "# client = tweepy.Client(consumer_key=TWITTER_API_KEY, consumer_secret=TWITTER_API_SECRET, access_token=TWITTER_ACCESS_TOKEN, access_token_secret=TWITTER_ACCESS_SECRET)\n"
   ]
  },
  {
   "cell_type": "markdown",
   "id": "182eb3f7-9459-4022-80bb-326afde895f0",
   "metadata": {},
   "source": [
    "# Get your twitter account id"
   ]
  },
  {
   "cell_type": "code",
   "execution_count": 4,
   "id": "0a53c958-b548-403b-94bc-e3f90a8e9430",
   "metadata": {},
   "outputs": [],
   "source": [
    "\n",
    "result = client.get_user(username=TWITTER_USERNAME)"
   ]
  },
  {
   "cell_type": "code",
   "execution_count": 12,
   "id": "c5974125-77d4-49c0-af69-0e3bca74fcf8",
   "metadata": {},
   "outputs": [],
   "source": [
    "twitter_id = result.data.id"
   ]
  },
  {
   "cell_type": "markdown",
   "id": "58ccf8d6-4824-477b-bc4c-9efeb7081341",
   "metadata": {},
   "source": [
    "# Get the users you are following"
   ]
  },
  {
   "cell_type": "code",
   "execution_count": 35,
   "id": "921cc453-d5e4-49c9-975f-01f15626f775",
   "metadata": {},
   "outputs": [],
   "source": [
    "def get_users_account_is_following(twitter_id):\n",
    "    following = []\n",
    "    results = client.get_users_following(id=twitter_id, user_fields=USER_FIELDS, max_results=1000)\n",
    "    following.extend(results.data)\n",
    "    pagination_token = results.meta['next_token']\n",
    "    \n",
    "    while pagination_token:\n",
    "        next_page_results = client.get_users_following(id=twitter_id, pagination_token=pagination_token, user_fields=USER_FIELDS, max_results=1000)\n",
    "        following.extend(next_page_results.data)\n",
    "        pagination_token=next_page_results.meta.get('next_token', \"\")\n",
    "    \n",
    "    return following\n",
    "\n",
    "    "
   ]
  },
  {
   "cell_type": "code",
   "execution_count": 36,
   "id": "3406486d-7d32-4c2a-b440-f6549f062d87",
   "metadata": {},
   "outputs": [
    {
     "name": "stdout",
     "output_type": "stream",
     "text": [
      "4292\n"
     ]
    }
   ],
   "source": [
    "\n",
    "following_these_users = []\n",
    "\n",
    "following = get_users_account_is_following(twitter_id)\n",
    "\n",
    "print(len(following))\n"
   ]
  },
  {
   "cell_type": "code",
   "execution_count": null,
   "id": "fdb083e0-3bd2-41a1-9f08-d59ccc696aef",
   "metadata": {},
   "outputs": [],
   "source": []
  },
  {
   "cell_type": "markdown",
   "id": "d35cb635-370c-4c2b-be19-50f6312f831f",
   "metadata": {},
   "source": [
    "# Get users following you"
   ]
  },
  {
   "cell_type": "code",
   "execution_count": 34,
   "id": "4f7f77fc-246c-4127-8e75-ea73bf529285",
   "metadata": {},
   "outputs": [],
   "source": [
    "def get_users_following_account(twitter_id):\n",
    "    followers = []\n",
    "    results = client.get_users_followers(id=twitter_id, user_fields=USER_FIELDS, max_results=1000)\n",
    "    followers.extend(results.data)\n",
    "    pagination_token = results.meta['next_token']\n",
    "    \n",
    "    while pagination_token:\n",
    "        next_page_results = client.get_users_followers(id=twitter_id, pagination_token=pagination_token, user_fields=USER_FIELDS, max_results=1000)\n",
    "        followers.extend(next_page_results.data)\n",
    "        pagination_token=next_page_results.meta.get('next_token', \"\")\n",
    "    \n",
    "    return followers\n"
   ]
  },
  {
   "cell_type": "code",
   "execution_count": 37,
   "id": "738dfb47-a44c-4545-b9d4-4df5a9ae9012",
   "metadata": {},
   "outputs": [
    {
     "name": "stdout",
     "output_type": "stream",
     "text": [
      "1978\n"
     ]
    }
   ],
   "source": [
    "followers = get_users_following_account(twitter_id)\n",
    "print(len(followers))"
   ]
  },
  {
   "cell_type": "markdown",
   "id": "fc8ff2cb-0b3e-4293-8eba-e6da7618561a",
   "metadata": {},
   "source": [
    "# Create CSV Files"
   ]
  },
  {
   "cell_type": "code",
   "execution_count": 42,
   "id": "96db9d0c-c8fe-4f9c-a4b4-0efd50eeb058",
   "metadata": {},
   "outputs": [],
   "source": [
    "following_data = []\n",
    "\n",
    "for user in following:\n",
    "    setUserData = {\n",
    "        'twitter_id': user.id,\n",
    "        'name': user.name,\n",
    "        'username': user.username,\n",
    "        'bio': user.description,\n",
    "        'url': user.url,\n",
    "        'created_at': user.created_at,\n",
    "        'number_accounts_followed': user.public_metrics['following_count'],\n",
    "        'number_accounts_following': user.public_metrics['followers_count'],\n",
    "        'number_of_tweets':user.public_metrics['tweet_count'],\n",
    "        'profile_image_url': user.profile_image_url,\n",
    "        'pinned_tweet_id': user.pinned_tweet_id,\n",
    "        'location': user.location\n",
    "    }\n",
    "    following_data.append(setUserData)\n",
    "    \n",
    "following_dataframe = pd.DataFrame(following_data)"
   ]
  },
  {
   "cell_type": "code",
   "execution_count": 43,
   "id": "f3e4f1e9-2911-4d99-a933-92381cc457d0",
   "metadata": {},
   "outputs": [],
   "source": [
    "followers_data = []\n",
    "\n",
    "for user in followers:\n",
    "    setUserData = {\n",
    "        'twitter_id': user.id,\n",
    "        'name': user.name,\n",
    "        'username': user.username,\n",
    "        'bio': user.description,\n",
    "        'url': user.url,\n",
    "        'created_at': user.created_at,\n",
    "        'number_accounts_followed': user.public_metrics['following_count'],\n",
    "        'number_accounts_following': user.public_metrics['followers_count'],\n",
    "        'number_of_tweets':user.public_metrics['tweet_count'],\n",
    "        'profile_image_url': user.profile_image_url,\n",
    "        'pinned_tweet_id': user.pinned_tweet_id,\n",
    "        'location': user.location\n",
    "    }\n",
    "    followers_data.append(setUserData)\n",
    "    \n",
    "followers_dataframe = pd.DataFrame(followers_data)"
   ]
  },
  {
   "cell_type": "code",
   "execution_count": 45,
   "id": "a451d04a-871c-439e-a42b-c02312b5aa7e",
   "metadata": {},
   "outputs": [],
   "source": [
    "following_dataframe.to_csv(\"following_users.csv\")\n",
    "followers_dataframe.to_csv(\"followed_by_users.csv\")"
   ]
  }
 ],
 "metadata": {
  "kernelspec": {
   "display_name": "Python 3 (ipykernel)",
   "language": "python",
   "name": "python3"
  },
  "language_info": {
   "codemirror_mode": {
    "name": "ipython",
    "version": 3
   },
   "file_extension": ".py",
   "mimetype": "text/x-python",
   "name": "python",
   "nbconvert_exporter": "python",
   "pygments_lexer": "ipython3",
   "version": "3.9.14"
  }
 },
 "nbformat": 4,
 "nbformat_minor": 5
}
